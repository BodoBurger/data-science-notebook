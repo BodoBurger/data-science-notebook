{
 "cells": [
  {
   "cell_type": "markdown",
   "id": "3c47703b",
   "metadata": {},
   "source": [
    "# Selecting and manipulating data with Polars"
   ]
  },
  {
   "cell_type": "code",
   "execution_count": 1,
   "id": "fa0d9f4e-78bf-425b-a50d-8a2578794e41",
   "metadata": {},
   "outputs": [],
   "source": [
    "import polars as pl"
   ]
  },
  {
   "cell_type": "code",
   "execution_count": 2,
   "id": "0defb730-c8b8-43aa-814e-ac5907922b10",
   "metadata": {},
   "outputs": [],
   "source": [
    "import sklearn"
   ]
  },
  {
   "cell_type": "markdown",
   "id": "81bd99e6-5144-4f28-b52c-26205e302c93",
   "metadata": {},
   "source": [
    "Alternative datasets include the California housing dataset and the\n",
    "Ames housing dataset. You can load the datasets as follows::\n",
    "\n",
    "    from sklearn.datasets import fetch_california_housing\n",
    "    housing = fetch_california_housing()\n",
    "\n",
    "for the California housing dataset and::\n",
    "\n",
    "    from sklearn.datasets import fetch_openml\n",
    "    housing = fetch_openml(name=\"house_prices\", as_frame=True)\n",
    "\n",
    "for the Ames housing dataset."
   ]
  },
  {
   "cell_type": "code",
   "execution_count": 3,
   "id": "194577b2-79ac-4b82-820f-e8a6612e1b54",
   "metadata": {},
   "outputs": [],
   "source": [
    "ames_data = sklearn.datasets.fetch_openml(\"house_prices\", as_frame=True)"
   ]
  },
  {
   "cell_type": "code",
   "execution_count": 4,
   "id": "253fe706-3053-47be-8a8d-826570de5ab6",
   "metadata": {},
   "outputs": [
    {
     "data": {
      "text/plain": [
       "dict_keys(['data', 'target', 'frame', 'categories', 'feature_names', 'target_names', 'DESCR', 'details', 'url'])"
      ]
     },
     "execution_count": 4,
     "metadata": {},
     "output_type": "execute_result"
    }
   ],
   "source": [
    "ames_data.keys()"
   ]
  },
  {
   "cell_type": "code",
   "execution_count": 5,
   "id": "41636ab6-3932-4f59-a955-fa631e808a0b",
   "metadata": {},
   "outputs": [],
   "source": [
    "cal_data = sklearn.datasets.fetch_california_housing()"
   ]
  },
  {
   "cell_type": "code",
   "execution_count": 6,
   "id": "6dc63181-c84d-4bf4-a940-fa846eca26c5",
   "metadata": {},
   "outputs": [
    {
     "data": {
      "text/plain": [
       "dict_keys(['data', 'target', 'frame', 'target_names', 'feature_names', 'DESCR'])"
      ]
     },
     "execution_count": 6,
     "metadata": {},
     "output_type": "execute_result"
    }
   ],
   "source": [
    "cal_data.keys()"
   ]
  },
  {
   "cell_type": "code",
   "execution_count": 7,
   "id": "b07f11d6-dc52-4d5b-bb55-7f0622f9a290",
   "metadata": {},
   "outputs": [],
   "source": [
    "df = pl.from_numpy(cal_data[\"data\"], schema=cal_data[\"feature_names\"])"
   ]
  },
  {
   "cell_type": "code",
   "execution_count": 8,
   "id": "5b335515-fc49-490c-8133-d569419cfb5c",
   "metadata": {},
   "outputs": [],
   "source": [
    "df = df.with_columns(\n",
    "    pl.Series(cal_data[\"target\"]).alias(cal_data[\"target_names\"][0]),\n",
    ")"
   ]
  },
  {
   "cell_type": "code",
   "execution_count": 9,
   "id": "c813372f-d3db-4224-b148-82941ccb8f49",
   "metadata": {},
   "outputs": [
    {
     "data": {
      "text/html": [
       "<div><style>\n",
       ".dataframe > thead > tr,\n",
       ".dataframe > tbody > tr {\n",
       "  text-align: right;\n",
       "  white-space: pre-wrap;\n",
       "}\n",
       "</style>\n",
       "<small>shape: (20_640, 9)</small><table border=\"1\" class=\"dataframe\"><thead><tr><th>MedInc</th><th>HouseAge</th><th>AveRooms</th><th>AveBedrms</th><th>Population</th><th>AveOccup</th><th>Latitude</th><th>Longitude</th><th>MedHouseVal</th></tr><tr><td>f64</td><td>f64</td><td>f64</td><td>f64</td><td>f64</td><td>f64</td><td>f64</td><td>f64</td><td>f64</td></tr></thead><tbody><tr><td>8.3252</td><td>41.0</td><td>6.984127</td><td>1.02381</td><td>322.0</td><td>2.555556</td><td>37.88</td><td>-122.23</td><td>4.526</td></tr><tr><td>8.3014</td><td>21.0</td><td>6.238137</td><td>0.97188</td><td>2401.0</td><td>2.109842</td><td>37.86</td><td>-122.22</td><td>3.585</td></tr><tr><td>7.2574</td><td>52.0</td><td>8.288136</td><td>1.073446</td><td>496.0</td><td>2.80226</td><td>37.85</td><td>-122.24</td><td>3.521</td></tr><tr><td>5.6431</td><td>52.0</td><td>5.817352</td><td>1.073059</td><td>558.0</td><td>2.547945</td><td>37.85</td><td>-122.25</td><td>3.413</td></tr><tr><td>3.8462</td><td>52.0</td><td>6.281853</td><td>1.081081</td><td>565.0</td><td>2.181467</td><td>37.85</td><td>-122.25</td><td>3.422</td></tr><tr><td>&hellip;</td><td>&hellip;</td><td>&hellip;</td><td>&hellip;</td><td>&hellip;</td><td>&hellip;</td><td>&hellip;</td><td>&hellip;</td><td>&hellip;</td></tr><tr><td>1.5603</td><td>25.0</td><td>5.045455</td><td>1.133333</td><td>845.0</td><td>2.560606</td><td>39.48</td><td>-121.09</td><td>0.781</td></tr><tr><td>2.5568</td><td>18.0</td><td>6.114035</td><td>1.315789</td><td>356.0</td><td>3.122807</td><td>39.49</td><td>-121.21</td><td>0.771</td></tr><tr><td>1.7</td><td>17.0</td><td>5.205543</td><td>1.120092</td><td>1007.0</td><td>2.325635</td><td>39.43</td><td>-121.22</td><td>0.923</td></tr><tr><td>1.8672</td><td>18.0</td><td>5.329513</td><td>1.17192</td><td>741.0</td><td>2.123209</td><td>39.43</td><td>-121.32</td><td>0.847</td></tr><tr><td>2.3886</td><td>16.0</td><td>5.254717</td><td>1.162264</td><td>1387.0</td><td>2.616981</td><td>39.37</td><td>-121.24</td><td>0.894</td></tr></tbody></table></div>"
      ],
      "text/plain": [
       "shape: (20_640, 9)\n",
       "┌────────┬──────────┬──────────┬───────────┬───┬──────────┬──────────┬───────────┬─────────────┐\n",
       "│ MedInc ┆ HouseAge ┆ AveRooms ┆ AveBedrms ┆ … ┆ AveOccup ┆ Latitude ┆ Longitude ┆ MedHouseVal │\n",
       "│ ---    ┆ ---      ┆ ---      ┆ ---       ┆   ┆ ---      ┆ ---      ┆ ---       ┆ ---         │\n",
       "│ f64    ┆ f64      ┆ f64      ┆ f64       ┆   ┆ f64      ┆ f64      ┆ f64       ┆ f64         │\n",
       "╞════════╪══════════╪══════════╪═══════════╪═══╪══════════╪══════════╪═══════════╪═════════════╡\n",
       "│ 8.3252 ┆ 41.0     ┆ 6.984127 ┆ 1.02381   ┆ … ┆ 2.555556 ┆ 37.88    ┆ -122.23   ┆ 4.526       │\n",
       "│ 8.3014 ┆ 21.0     ┆ 6.238137 ┆ 0.97188   ┆ … ┆ 2.109842 ┆ 37.86    ┆ -122.22   ┆ 3.585       │\n",
       "│ 7.2574 ┆ 52.0     ┆ 8.288136 ┆ 1.073446  ┆ … ┆ 2.80226  ┆ 37.85    ┆ -122.24   ┆ 3.521       │\n",
       "│ 5.6431 ┆ 52.0     ┆ 5.817352 ┆ 1.073059  ┆ … ┆ 2.547945 ┆ 37.85    ┆ -122.25   ┆ 3.413       │\n",
       "│ 3.8462 ┆ 52.0     ┆ 6.281853 ┆ 1.081081  ┆ … ┆ 2.181467 ┆ 37.85    ┆ -122.25   ┆ 3.422       │\n",
       "│ …      ┆ …        ┆ …        ┆ …         ┆ … ┆ …        ┆ …        ┆ …         ┆ …           │\n",
       "│ 1.5603 ┆ 25.0     ┆ 5.045455 ┆ 1.133333  ┆ … ┆ 2.560606 ┆ 39.48    ┆ -121.09   ┆ 0.781       │\n",
       "│ 2.5568 ┆ 18.0     ┆ 6.114035 ┆ 1.315789  ┆ … ┆ 3.122807 ┆ 39.49    ┆ -121.21   ┆ 0.771       │\n",
       "│ 1.7    ┆ 17.0     ┆ 5.205543 ┆ 1.120092  ┆ … ┆ 2.325635 ┆ 39.43    ┆ -121.22   ┆ 0.923       │\n",
       "│ 1.8672 ┆ 18.0     ┆ 5.329513 ┆ 1.17192   ┆ … ┆ 2.123209 ┆ 39.43    ┆ -121.32   ┆ 0.847       │\n",
       "│ 2.3886 ┆ 16.0     ┆ 5.254717 ┆ 1.162264  ┆ … ┆ 2.616981 ┆ 39.37    ┆ -121.24   ┆ 0.894       │\n",
       "└────────┴──────────┴──────────┴───────────┴───┴──────────┴──────────┴───────────┴─────────────┘"
      ]
     },
     "execution_count": 9,
     "metadata": {},
     "output_type": "execute_result"
    }
   ],
   "source": [
    "df"
   ]
  },
  {
   "cell_type": "markdown",
   "id": "79d29e5b-6559-49cc-ac2f-e0107e7972f0",
   "metadata": {},
   "source": [
    "## Data selection"
   ]
  },
  {
   "cell_type": "markdown",
   "id": "ee86d3d6-3a6d-4ff4-aabc-5e7203fc29cf",
   "metadata": {},
   "source": [
    "### Columns"
   ]
  },
  {
   "cell_type": "markdown",
   "id": "007507d4-413b-4f72-9d74-8aace108ecf9",
   "metadata": {},
   "source": [
    "- Selectors: https://docs.pola.rs/api/python/stable/reference/selectors.html"
   ]
  },
  {
   "cell_type": "code",
   "execution_count": 10,
   "id": "930bbb25-4033-464c-8dd1-239568ded800",
   "metadata": {},
   "outputs": [
    {
     "data": {
      "text/html": [
       "<div><style>\n",
       ".dataframe > thead > tr,\n",
       ".dataframe > tbody > tr {\n",
       "  text-align: right;\n",
       "  white-space: pre-wrap;\n",
       "}\n",
       "</style>\n",
       "<small>shape: (0, 0)</small><table border=\"1\" class=\"dataframe\"><thead><tr></tr><tr></tr></thead><tbody></tbody></table></div>"
      ],
      "text/plain": [
       "shape: (0, 0)\n",
       "┌┐\n",
       "╞╡\n",
       "└┘"
      ]
     },
     "execution_count": 10,
     "metadata": {},
     "output_type": "execute_result"
    }
   ],
   "source": [
    "df.select()"
   ]
  },
  {
   "cell_type": "code",
   "execution_count": 11,
   "id": "b746cc44-a3ac-4410-945f-182080b3ffc8",
   "metadata": {},
   "outputs": [
    {
     "data": {
      "text/html": [
       "<div><style>\n",
       ".dataframe > thead > tr,\n",
       ".dataframe > tbody > tr {\n",
       "  text-align: right;\n",
       "  white-space: pre-wrap;\n",
       "}\n",
       "</style>\n",
       "<small>shape: (20_640, 9)</small><table border=\"1\" class=\"dataframe\"><thead><tr><th>MedInc</th><th>HouseAge</th><th>AveRooms</th><th>AveBedrms</th><th>Population</th><th>AveOccup</th><th>Latitude</th><th>Longitude</th><th>MedHouseVal</th></tr><tr><td>f64</td><td>f64</td><td>f64</td><td>f64</td><td>f64</td><td>f64</td><td>f64</td><td>f64</td><td>f64</td></tr></thead><tbody><tr><td>8.3252</td><td>41.0</td><td>6.984127</td><td>1.02381</td><td>322.0</td><td>2.555556</td><td>37.88</td><td>-122.23</td><td>4.526</td></tr><tr><td>8.3014</td><td>21.0</td><td>6.238137</td><td>0.97188</td><td>2401.0</td><td>2.109842</td><td>37.86</td><td>-122.22</td><td>3.585</td></tr><tr><td>7.2574</td><td>52.0</td><td>8.288136</td><td>1.073446</td><td>496.0</td><td>2.80226</td><td>37.85</td><td>-122.24</td><td>3.521</td></tr><tr><td>5.6431</td><td>52.0</td><td>5.817352</td><td>1.073059</td><td>558.0</td><td>2.547945</td><td>37.85</td><td>-122.25</td><td>3.413</td></tr><tr><td>3.8462</td><td>52.0</td><td>6.281853</td><td>1.081081</td><td>565.0</td><td>2.181467</td><td>37.85</td><td>-122.25</td><td>3.422</td></tr><tr><td>&hellip;</td><td>&hellip;</td><td>&hellip;</td><td>&hellip;</td><td>&hellip;</td><td>&hellip;</td><td>&hellip;</td><td>&hellip;</td><td>&hellip;</td></tr><tr><td>1.5603</td><td>25.0</td><td>5.045455</td><td>1.133333</td><td>845.0</td><td>2.560606</td><td>39.48</td><td>-121.09</td><td>0.781</td></tr><tr><td>2.5568</td><td>18.0</td><td>6.114035</td><td>1.315789</td><td>356.0</td><td>3.122807</td><td>39.49</td><td>-121.21</td><td>0.771</td></tr><tr><td>1.7</td><td>17.0</td><td>5.205543</td><td>1.120092</td><td>1007.0</td><td>2.325635</td><td>39.43</td><td>-121.22</td><td>0.923</td></tr><tr><td>1.8672</td><td>18.0</td><td>5.329513</td><td>1.17192</td><td>741.0</td><td>2.123209</td><td>39.43</td><td>-121.32</td><td>0.847</td></tr><tr><td>2.3886</td><td>16.0</td><td>5.254717</td><td>1.162264</td><td>1387.0</td><td>2.616981</td><td>39.37</td><td>-121.24</td><td>0.894</td></tr></tbody></table></div>"
      ],
      "text/plain": [
       "shape: (20_640, 9)\n",
       "┌────────┬──────────┬──────────┬───────────┬───┬──────────┬──────────┬───────────┬─────────────┐\n",
       "│ MedInc ┆ HouseAge ┆ AveRooms ┆ AveBedrms ┆ … ┆ AveOccup ┆ Latitude ┆ Longitude ┆ MedHouseVal │\n",
       "│ ---    ┆ ---      ┆ ---      ┆ ---       ┆   ┆ ---      ┆ ---      ┆ ---       ┆ ---         │\n",
       "│ f64    ┆ f64      ┆ f64      ┆ f64       ┆   ┆ f64      ┆ f64      ┆ f64       ┆ f64         │\n",
       "╞════════╪══════════╪══════════╪═══════════╪═══╪══════════╪══════════╪═══════════╪═════════════╡\n",
       "│ 8.3252 ┆ 41.0     ┆ 6.984127 ┆ 1.02381   ┆ … ┆ 2.555556 ┆ 37.88    ┆ -122.23   ┆ 4.526       │\n",
       "│ 8.3014 ┆ 21.0     ┆ 6.238137 ┆ 0.97188   ┆ … ┆ 2.109842 ┆ 37.86    ┆ -122.22   ┆ 3.585       │\n",
       "│ 7.2574 ┆ 52.0     ┆ 8.288136 ┆ 1.073446  ┆ … ┆ 2.80226  ┆ 37.85    ┆ -122.24   ┆ 3.521       │\n",
       "│ 5.6431 ┆ 52.0     ┆ 5.817352 ┆ 1.073059  ┆ … ┆ 2.547945 ┆ 37.85    ┆ -122.25   ┆ 3.413       │\n",
       "│ 3.8462 ┆ 52.0     ┆ 6.281853 ┆ 1.081081  ┆ … ┆ 2.181467 ┆ 37.85    ┆ -122.25   ┆ 3.422       │\n",
       "│ …      ┆ …        ┆ …        ┆ …         ┆ … ┆ …        ┆ …        ┆ …         ┆ …           │\n",
       "│ 1.5603 ┆ 25.0     ┆ 5.045455 ┆ 1.133333  ┆ … ┆ 2.560606 ┆ 39.48    ┆ -121.09   ┆ 0.781       │\n",
       "│ 2.5568 ┆ 18.0     ┆ 6.114035 ┆ 1.315789  ┆ … ┆ 3.122807 ┆ 39.49    ┆ -121.21   ┆ 0.771       │\n",
       "│ 1.7    ┆ 17.0     ┆ 5.205543 ┆ 1.120092  ┆ … ┆ 2.325635 ┆ 39.43    ┆ -121.22   ┆ 0.923       │\n",
       "│ 1.8672 ┆ 18.0     ┆ 5.329513 ┆ 1.17192   ┆ … ┆ 2.123209 ┆ 39.43    ┆ -121.32   ┆ 0.847       │\n",
       "│ 2.3886 ┆ 16.0     ┆ 5.254717 ┆ 1.162264  ┆ … ┆ 2.616981 ┆ 39.37    ┆ -121.24   ┆ 0.894       │\n",
       "└────────┴──────────┴──────────┴───────────┴───┴──────────┴──────────┴───────────┴─────────────┘"
      ]
     },
     "execution_count": 11,
     "metadata": {},
     "output_type": "execute_result"
    }
   ],
   "source": [
    "df.with_columns()"
   ]
  },
  {
   "cell_type": "markdown",
   "id": "b2fdc464-732a-4dad-b774-c144f6982bad",
   "metadata": {},
   "source": [
    "### Rows"
   ]
  },
  {
   "cell_type": "code",
   "execution_count": 12,
   "id": "e44be2f4-03c5-413f-ad96-49fcf6060cbd",
   "metadata": {},
   "outputs": [
    {
     "data": {
      "text/html": [
       "<div><style>\n",
       ".dataframe > thead > tr,\n",
       ".dataframe > tbody > tr {\n",
       "  text-align: right;\n",
       "  white-space: pre-wrap;\n",
       "}\n",
       "</style>\n",
       "<small>shape: (18_640, 9)</small><table border=\"1\" class=\"dataframe\"><thead><tr><th>MedInc</th><th>HouseAge</th><th>AveRooms</th><th>AveBedrms</th><th>Population</th><th>AveOccup</th><th>Latitude</th><th>Longitude</th><th>MedHouseVal</th></tr><tr><td>f64</td><td>f64</td><td>f64</td><td>f64</td><td>f64</td><td>f64</td><td>f64</td><td>f64</td><td>f64</td></tr></thead><tbody><tr><td>2.5045</td><td>15.0</td><td>4.103933</td><td>1.16573</td><td>924.0</td><td>2.595506</td><td>36.74</td><td>-119.78</td><td>0.903</td></tr><tr><td>1.2375</td><td>35.0</td><td>4.459916</td><td>1.067511</td><td>2050.0</td><td>4.324895</td><td>36.75</td><td>-119.78</td><td>0.5</td></tr><tr><td>1.2813</td><td>31.0</td><td>3.627907</td><td>0.979328</td><td>1515.0</td><td>3.914729</td><td>36.75</td><td>-119.78</td><td>0.564</td></tr><tr><td>1.0513</td><td>35.0</td><td>2.951557</td><td>1.024221</td><td>1228.0</td><td>4.249135</td><td>36.74</td><td>-119.79</td><td>0.396</td></tr><tr><td>2.1094</td><td>52.0</td><td>2.059524</td><td>1.035714</td><td>401.0</td><td>4.77381</td><td>36.74</td><td>-119.79</td><td>0.75</td></tr><tr><td>&hellip;</td><td>&hellip;</td><td>&hellip;</td><td>&hellip;</td><td>&hellip;</td><td>&hellip;</td><td>&hellip;</td><td>&hellip;</td><td>&hellip;</td></tr><tr><td>1.5603</td><td>25.0</td><td>5.045455</td><td>1.133333</td><td>845.0</td><td>2.560606</td><td>39.48</td><td>-121.09</td><td>0.781</td></tr><tr><td>2.5568</td><td>18.0</td><td>6.114035</td><td>1.315789</td><td>356.0</td><td>3.122807</td><td>39.49</td><td>-121.21</td><td>0.771</td></tr><tr><td>1.7</td><td>17.0</td><td>5.205543</td><td>1.120092</td><td>1007.0</td><td>2.325635</td><td>39.43</td><td>-121.22</td><td>0.923</td></tr><tr><td>1.8672</td><td>18.0</td><td>5.329513</td><td>1.17192</td><td>741.0</td><td>2.123209</td><td>39.43</td><td>-121.32</td><td>0.847</td></tr><tr><td>2.3886</td><td>16.0</td><td>5.254717</td><td>1.162264</td><td>1387.0</td><td>2.616981</td><td>39.37</td><td>-121.24</td><td>0.894</td></tr></tbody></table></div>"
      ],
      "text/plain": [
       "shape: (18_640, 9)\n",
       "┌────────┬──────────┬──────────┬───────────┬───┬──────────┬──────────┬───────────┬─────────────┐\n",
       "│ MedInc ┆ HouseAge ┆ AveRooms ┆ AveBedrms ┆ … ┆ AveOccup ┆ Latitude ┆ Longitude ┆ MedHouseVal │\n",
       "│ ---    ┆ ---      ┆ ---      ┆ ---       ┆   ┆ ---      ┆ ---      ┆ ---       ┆ ---         │\n",
       "│ f64    ┆ f64      ┆ f64      ┆ f64       ┆   ┆ f64      ┆ f64      ┆ f64       ┆ f64         │\n",
       "╞════════╪══════════╪══════════╪═══════════╪═══╪══════════╪══════════╪═══════════╪═════════════╡\n",
       "│ 2.5045 ┆ 15.0     ┆ 4.103933 ┆ 1.16573   ┆ … ┆ 2.595506 ┆ 36.74    ┆ -119.78   ┆ 0.903       │\n",
       "│ 1.2375 ┆ 35.0     ┆ 4.459916 ┆ 1.067511  ┆ … ┆ 4.324895 ┆ 36.75    ┆ -119.78   ┆ 0.5         │\n",
       "│ 1.2813 ┆ 31.0     ┆ 3.627907 ┆ 0.979328  ┆ … ┆ 3.914729 ┆ 36.75    ┆ -119.78   ┆ 0.564       │\n",
       "│ 1.0513 ┆ 35.0     ┆ 2.951557 ┆ 1.024221  ┆ … ┆ 4.249135 ┆ 36.74    ┆ -119.79   ┆ 0.396       │\n",
       "│ 2.1094 ┆ 52.0     ┆ 2.059524 ┆ 1.035714  ┆ … ┆ 4.77381  ┆ 36.74    ┆ -119.79   ┆ 0.75        │\n",
       "│ …      ┆ …        ┆ …        ┆ …         ┆ … ┆ …        ┆ …        ┆ …         ┆ …           │\n",
       "│ 1.5603 ┆ 25.0     ┆ 5.045455 ┆ 1.133333  ┆ … ┆ 2.560606 ┆ 39.48    ┆ -121.09   ┆ 0.781       │\n",
       "│ 2.5568 ┆ 18.0     ┆ 6.114035 ┆ 1.315789  ┆ … ┆ 3.122807 ┆ 39.49    ┆ -121.21   ┆ 0.771       │\n",
       "│ 1.7    ┆ 17.0     ┆ 5.205543 ┆ 1.120092  ┆ … ┆ 2.325635 ┆ 39.43    ┆ -121.22   ┆ 0.923       │\n",
       "│ 1.8672 ┆ 18.0     ┆ 5.329513 ┆ 1.17192   ┆ … ┆ 2.123209 ┆ 39.43    ┆ -121.32   ┆ 0.847       │\n",
       "│ 2.3886 ┆ 16.0     ┆ 5.254717 ┆ 1.162264  ┆ … ┆ 2.616981 ┆ 39.37    ┆ -121.24   ┆ 0.894       │\n",
       "└────────┴──────────┴──────────┴───────────┴───┴──────────┴──────────┴───────────┴─────────────┘"
      ]
     },
     "execution_count": 12,
     "metadata": {},
     "output_type": "execute_result"
    }
   ],
   "source": [
    "df.slice(2000)"
   ]
  },
  {
   "cell_type": "code",
   "execution_count": 13,
   "id": "18d8cd00-5452-43e0-aa49-87f022bae316",
   "metadata": {},
   "outputs": [
    {
     "data": {
      "text/html": [
       "<div><style>\n",
       ".dataframe > thead > tr,\n",
       ".dataframe > tbody > tr {\n",
       "  text-align: right;\n",
       "  white-space: pre-wrap;\n",
       "}\n",
       "</style>\n",
       "<small>shape: (20_640, 9)</small><table border=\"1\" class=\"dataframe\"><thead><tr><th>MedInc</th><th>HouseAge</th><th>AveRooms</th><th>AveBedrms</th><th>Population</th><th>AveOccup</th><th>Latitude</th><th>Longitude</th><th>MedHouseVal</th></tr><tr><td>f64</td><td>f64</td><td>f64</td><td>f64</td><td>f64</td><td>f64</td><td>f64</td><td>f64</td><td>f64</td></tr></thead><tbody><tr><td>8.3252</td><td>41.0</td><td>6.984127</td><td>1.02381</td><td>322.0</td><td>2.555556</td><td>37.88</td><td>-122.23</td><td>4.526</td></tr><tr><td>8.3014</td><td>21.0</td><td>6.238137</td><td>0.97188</td><td>2401.0</td><td>2.109842</td><td>37.86</td><td>-122.22</td><td>3.585</td></tr><tr><td>7.2574</td><td>52.0</td><td>8.288136</td><td>1.073446</td><td>496.0</td><td>2.80226</td><td>37.85</td><td>-122.24</td><td>3.521</td></tr><tr><td>5.6431</td><td>52.0</td><td>5.817352</td><td>1.073059</td><td>558.0</td><td>2.547945</td><td>37.85</td><td>-122.25</td><td>3.413</td></tr><tr><td>3.8462</td><td>52.0</td><td>6.281853</td><td>1.081081</td><td>565.0</td><td>2.181467</td><td>37.85</td><td>-122.25</td><td>3.422</td></tr><tr><td>&hellip;</td><td>&hellip;</td><td>&hellip;</td><td>&hellip;</td><td>&hellip;</td><td>&hellip;</td><td>&hellip;</td><td>&hellip;</td><td>&hellip;</td></tr><tr><td>1.5603</td><td>25.0</td><td>5.045455</td><td>1.133333</td><td>845.0</td><td>2.560606</td><td>39.48</td><td>-121.09</td><td>0.781</td></tr><tr><td>2.5568</td><td>18.0</td><td>6.114035</td><td>1.315789</td><td>356.0</td><td>3.122807</td><td>39.49</td><td>-121.21</td><td>0.771</td></tr><tr><td>1.7</td><td>17.0</td><td>5.205543</td><td>1.120092</td><td>1007.0</td><td>2.325635</td><td>39.43</td><td>-121.22</td><td>0.923</td></tr><tr><td>1.8672</td><td>18.0</td><td>5.329513</td><td>1.17192</td><td>741.0</td><td>2.123209</td><td>39.43</td><td>-121.32</td><td>0.847</td></tr><tr><td>2.3886</td><td>16.0</td><td>5.254717</td><td>1.162264</td><td>1387.0</td><td>2.616981</td><td>39.37</td><td>-121.24</td><td>0.894</td></tr></tbody></table></div>"
      ],
      "text/plain": [
       "shape: (20_640, 9)\n",
       "┌────────┬──────────┬──────────┬───────────┬───┬──────────┬──────────┬───────────┬─────────────┐\n",
       "│ MedInc ┆ HouseAge ┆ AveRooms ┆ AveBedrms ┆ … ┆ AveOccup ┆ Latitude ┆ Longitude ┆ MedHouseVal │\n",
       "│ ---    ┆ ---      ┆ ---      ┆ ---       ┆   ┆ ---      ┆ ---      ┆ ---       ┆ ---         │\n",
       "│ f64    ┆ f64      ┆ f64      ┆ f64       ┆   ┆ f64      ┆ f64      ┆ f64       ┆ f64         │\n",
       "╞════════╪══════════╪══════════╪═══════════╪═══╪══════════╪══════════╪═══════════╪═════════════╡\n",
       "│ 8.3252 ┆ 41.0     ┆ 6.984127 ┆ 1.02381   ┆ … ┆ 2.555556 ┆ 37.88    ┆ -122.23   ┆ 4.526       │\n",
       "│ 8.3014 ┆ 21.0     ┆ 6.238137 ┆ 0.97188   ┆ … ┆ 2.109842 ┆ 37.86    ┆ -122.22   ┆ 3.585       │\n",
       "│ 7.2574 ┆ 52.0     ┆ 8.288136 ┆ 1.073446  ┆ … ┆ 2.80226  ┆ 37.85    ┆ -122.24   ┆ 3.521       │\n",
       "│ 5.6431 ┆ 52.0     ┆ 5.817352 ┆ 1.073059  ┆ … ┆ 2.547945 ┆ 37.85    ┆ -122.25   ┆ 3.413       │\n",
       "│ 3.8462 ┆ 52.0     ┆ 6.281853 ┆ 1.081081  ┆ … ┆ 2.181467 ┆ 37.85    ┆ -122.25   ┆ 3.422       │\n",
       "│ …      ┆ …        ┆ …        ┆ …         ┆ … ┆ …        ┆ …        ┆ …         ┆ …           │\n",
       "│ 1.5603 ┆ 25.0     ┆ 5.045455 ┆ 1.133333  ┆ … ┆ 2.560606 ┆ 39.48    ┆ -121.09   ┆ 0.781       │\n",
       "│ 2.5568 ┆ 18.0     ┆ 6.114035 ┆ 1.315789  ┆ … ┆ 3.122807 ┆ 39.49    ┆ -121.21   ┆ 0.771       │\n",
       "│ 1.7    ┆ 17.0     ┆ 5.205543 ┆ 1.120092  ┆ … ┆ 2.325635 ┆ 39.43    ┆ -121.22   ┆ 0.923       │\n",
       "│ 1.8672 ┆ 18.0     ┆ 5.329513 ┆ 1.17192   ┆ … ┆ 2.123209 ┆ 39.43    ┆ -121.32   ┆ 0.847       │\n",
       "│ 2.3886 ┆ 16.0     ┆ 5.254717 ┆ 1.162264  ┆ … ┆ 2.616981 ┆ 39.37    ┆ -121.24   ┆ 0.894       │\n",
       "└────────┴──────────┴──────────┴───────────┴───┴──────────┴──────────┴───────────┴─────────────┘"
      ]
     },
     "execution_count": 13,
     "metadata": {},
     "output_type": "execute_result"
    }
   ],
   "source": [
    "df.filter()"
   ]
  },
  {
   "cell_type": "code",
   "execution_count": null,
   "id": "8804647b-37f6-4c55-9937-ebf5e7248ca3",
   "metadata": {},
   "outputs": [],
   "source": []
  },
  {
   "cell_type": "markdown",
   "id": "9ecf1833-42ae-43a0-aa72-cc98bdb90ab6",
   "metadata": {},
   "source": [
    "### Combination"
   ]
  },
  {
   "cell_type": "code",
   "execution_count": null,
   "id": "29be5e5b-0df3-42ad-aa70-cde8d48fcadd",
   "metadata": {},
   "outputs": [],
   "source": []
  },
  {
   "cell_type": "markdown",
   "id": "fb1d4fce-6228-44e1-8333-543ff582deeb",
   "metadata": {},
   "source": [
    "## Manipulating data"
   ]
  },
  {
   "cell_type": "code",
   "execution_count": null,
   "id": "d9a48c30-7175-4035-8658-18b147ea7dfe",
   "metadata": {},
   "outputs": [],
   "source": []
  },
  {
   "cell_type": "code",
   "execution_count": null,
   "id": "c0f2ce22-9594-4538-b66b-730d4011d22c",
   "metadata": {},
   "outputs": [],
   "source": []
  },
  {
   "cell_type": "markdown",
   "id": "a528c866-84a5-476f-8e9a-21c300e5fc07",
   "metadata": {},
   "source": [
    "## Addendum"
   ]
  },
  {
   "cell_type": "markdown",
   "id": "6c6c6f64-7375-4f75-9bf1-f328132ef548",
   "metadata": {},
   "source": [
    "### Data- or LazyFrame? Lazy operations?"
   ]
  },
  {
   "cell_type": "code",
   "execution_count": null,
   "id": "e852fa69-42bb-498b-924d-2c3585939cb6",
   "metadata": {},
   "outputs": [],
   "source": []
  },
  {
   "cell_type": "code",
   "execution_count": null,
   "id": "ece3fe30-c2c9-4f96-91af-7212e47aafbb",
   "metadata": {},
   "outputs": [],
   "source": []
  },
  {
   "cell_type": "markdown",
   "id": "91fc8bb4-e0cb-4b4f-b5d1-d9535be8a1f3",
   "metadata": {},
   "source": [
    "### Using square brackets"
   ]
  },
  {
   "cell_type": "markdown",
   "id": "a73dc75c-bfef-405c-931d-23aa3f2c3ebb",
   "metadata": {},
   "source": [
    "It is recommended to use expressions to select and slice data.\n",
    "\n",
    "However, you can use square brackets to select rows and columns,"
   ]
  },
  {
   "cell_type": "code",
   "execution_count": 14,
   "id": "170310b9-1c12-415a-b4b8-4502fa9f36ec",
   "metadata": {},
   "outputs": [
    {
     "data": {
      "text/html": [
       "<div><style>\n",
       ".dataframe > thead > tr,\n",
       ".dataframe > tbody > tr {\n",
       "  text-align: right;\n",
       "  white-space: pre-wrap;\n",
       "}\n",
       "</style>\n",
       "<small>shape: (20_640,)</small><table border=\"1\" class=\"dataframe\"><thead><tr><th>MedInc</th></tr><tr><td>f64</td></tr></thead><tbody><tr><td>8.3252</td></tr><tr><td>8.3014</td></tr><tr><td>7.2574</td></tr><tr><td>5.6431</td></tr><tr><td>3.8462</td></tr><tr><td>&hellip;</td></tr><tr><td>1.5603</td></tr><tr><td>2.5568</td></tr><tr><td>1.7</td></tr><tr><td>1.8672</td></tr><tr><td>2.3886</td></tr></tbody></table></div>"
      ],
      "text/plain": [
       "shape: (20_640,)\n",
       "Series: 'MedInc' [f64]\n",
       "[\n",
       "\t8.3252\n",
       "\t8.3014\n",
       "\t7.2574\n",
       "\t5.6431\n",
       "\t3.8462\n",
       "\t…\n",
       "\t1.5603\n",
       "\t2.5568\n",
       "\t1.7\n",
       "\t1.8672\n",
       "\t2.3886\n",
       "]"
      ]
     },
     "execution_count": 14,
     "metadata": {},
     "output_type": "execute_result"
    }
   ],
   "source": [
    "df[\"MedInc\"]"
   ]
  },
  {
   "cell_type": "code",
   "execution_count": 15,
   "id": "a66bbb6e-d0cd-4085-870f-bce30d0da7c0",
   "metadata": {},
   "outputs": [
    {
     "data": {
      "text/html": [
       "<div><style>\n",
       ".dataframe > thead > tr,\n",
       ".dataframe > tbody > tr {\n",
       "  text-align: right;\n",
       "  white-space: pre-wrap;\n",
       "}\n",
       "</style>\n",
       "<small>shape: (20_640, 2)</small><table border=\"1\" class=\"dataframe\"><thead><tr><th>MedInc</th><th>Population</th></tr><tr><td>f64</td><td>f64</td></tr></thead><tbody><tr><td>8.3252</td><td>322.0</td></tr><tr><td>8.3014</td><td>2401.0</td></tr><tr><td>7.2574</td><td>496.0</td></tr><tr><td>5.6431</td><td>558.0</td></tr><tr><td>3.8462</td><td>565.0</td></tr><tr><td>&hellip;</td><td>&hellip;</td></tr><tr><td>1.5603</td><td>845.0</td></tr><tr><td>2.5568</td><td>356.0</td></tr><tr><td>1.7</td><td>1007.0</td></tr><tr><td>1.8672</td><td>741.0</td></tr><tr><td>2.3886</td><td>1387.0</td></tr></tbody></table></div>"
      ],
      "text/plain": [
       "shape: (20_640, 2)\n",
       "┌────────┬────────────┐\n",
       "│ MedInc ┆ Population │\n",
       "│ ---    ┆ ---        │\n",
       "│ f64    ┆ f64        │\n",
       "╞════════╪════════════╡\n",
       "│ 8.3252 ┆ 322.0      │\n",
       "│ 8.3014 ┆ 2401.0     │\n",
       "│ 7.2574 ┆ 496.0      │\n",
       "│ 5.6431 ┆ 558.0      │\n",
       "│ 3.8462 ┆ 565.0      │\n",
       "│ …      ┆ …          │\n",
       "│ 1.5603 ┆ 845.0      │\n",
       "│ 2.5568 ┆ 356.0      │\n",
       "│ 1.7    ┆ 1007.0     │\n",
       "│ 1.8672 ┆ 741.0      │\n",
       "│ 2.3886 ┆ 1387.0     │\n",
       "└────────┴────────────┘"
      ]
     },
     "execution_count": 15,
     "metadata": {},
     "output_type": "execute_result"
    }
   ],
   "source": [
    "df[[\"MedInc\", \"Population\"]]"
   ]
  },
  {
   "cell_type": "code",
   "execution_count": 16,
   "id": "706816a9-7203-46f1-99bb-aea1dd9ea3d6",
   "metadata": {},
   "outputs": [
    {
     "data": {
      "text/html": [
       "<div><style>\n",
       ".dataframe > thead > tr,\n",
       ".dataframe > tbody > tr {\n",
       "  text-align: right;\n",
       "  white-space: pre-wrap;\n",
       "}\n",
       "</style>\n",
       "<small>shape: (2, 2)</small><table border=\"1\" class=\"dataframe\"><thead><tr><th>MedInc</th><th>Population</th></tr><tr><td>f64</td><td>f64</td></tr></thead><tbody><tr><td>8.3252</td><td>322.0</td></tr><tr><td>8.3014</td><td>2401.0</td></tr></tbody></table></div>"
      ],
      "text/plain": [
       "shape: (2, 2)\n",
       "┌────────┬────────────┐\n",
       "│ MedInc ┆ Population │\n",
       "│ ---    ┆ ---        │\n",
       "│ f64    ┆ f64        │\n",
       "╞════════╪════════════╡\n",
       "│ 8.3252 ┆ 322.0      │\n",
       "│ 8.3014 ┆ 2401.0     │\n",
       "└────────┴────────────┘"
      ]
     },
     "execution_count": 16,
     "metadata": {},
     "output_type": "execute_result"
    }
   ],
   "source": [
    "df[0:2, [\"MedInc\", \"Population\"]]"
   ]
  },
  {
   "cell_type": "code",
   "execution_count": 17,
   "id": "a2bec57b-bf50-4abe-9a18-6ff95459208b",
   "metadata": {},
   "outputs": [
    {
     "ename": "TypeError",
     "evalue": "cannot select columns using key of type 'Expr': <Expr ['[(col(\"Population\")) > (dyn in…'] at 0x706C9B088C50>",
     "output_type": "error",
     "traceback": [
      "\u001b[31m---------------------------------------------------------------------------\u001b[39m",
      "\u001b[31mTypeError\u001b[39m                                 Traceback (most recent call last)",
      "\u001b[36mFile \u001b[39m\u001b[32m~/miniforge3/envs/datascience/lib/python3.13/site-packages/polars/_utils/getitem.py:167\u001b[39m, in \u001b[36mget_df_item_by_key\u001b[39m\u001b[34m(df, key)\u001b[39m\n\u001b[32m    166\u001b[39m \u001b[38;5;28;01mtry\u001b[39;00m:\n\u001b[32m--> \u001b[39m\u001b[32m167\u001b[39m     \u001b[38;5;28;01mreturn\u001b[39;00m \u001b[43m_select_rows\u001b[49m\u001b[43m(\u001b[49m\u001b[43mdf\u001b[49m\u001b[43m,\u001b[49m\u001b[43m \u001b[49m\u001b[43mkey\u001b[49m\u001b[43m)\u001b[49m  \u001b[38;5;66;03m# type: ignore[arg-type]\u001b[39;00m\n\u001b[32m    168\u001b[39m \u001b[38;5;28;01mexcept\u001b[39;00m \u001b[38;5;167;01mTypeError\u001b[39;00m:\n",
      "\u001b[36mFile \u001b[39m\u001b[32m~/miniforge3/envs/datascience/lib/python3.13/site-packages/polars/_utils/getitem.py:328\u001b[39m, in \u001b[36m_select_rows\u001b[39m\u001b[34m(df, key)\u001b[39m\n\u001b[32m    327\u001b[39m msg = \u001b[33mf\u001b[39m\u001b[33m\"\u001b[39m\u001b[33mcannot select rows using key of type \u001b[39m\u001b[38;5;132;01m{\u001b[39;00mqualified_type_name(key)\u001b[38;5;132;01m!r}\u001b[39;00m\u001b[33m: \u001b[39m\u001b[38;5;132;01m{\u001b[39;00mkey\u001b[38;5;132;01m!r}\u001b[39;00m\u001b[33m\"\u001b[39m\n\u001b[32m--> \u001b[39m\u001b[32m328\u001b[39m \u001b[38;5;28;01mraise\u001b[39;00m \u001b[38;5;167;01mTypeError\u001b[39;00m(msg)\n",
      "\u001b[31mTypeError\u001b[39m: cannot select rows using key of type 'Expr': <Expr ['[(col(\"Population\")) > (dyn in…'] at 0x706C9B088C50>",
      "\nDuring handling of the above exception, another exception occurred:\n",
      "\u001b[31mTypeError\u001b[39m                                 Traceback (most recent call last)",
      "\u001b[36mCell\u001b[39m\u001b[36m \u001b[39m\u001b[32mIn[17]\u001b[39m\u001b[32m, line 1\u001b[39m\n\u001b[32m----> \u001b[39m\u001b[32m1\u001b[39m \u001b[43mdf\u001b[49m\u001b[43m[\u001b[49m\u001b[43mpl\u001b[49m\u001b[43m.\u001b[49m\u001b[43mcol\u001b[49m\u001b[43m(\u001b[49m\u001b[33;43m\"\u001b[39;49m\u001b[33;43mPopulation\u001b[39;49m\u001b[33;43m\"\u001b[39;49m\u001b[43m)\u001b[49m\u001b[43m \u001b[49m\u001b[43m>\u001b[49m\u001b[43m \u001b[49m\u001b[32;43m350\u001b[39;49m\u001b[43m]\u001b[49m\n",
      "\u001b[36mFile \u001b[39m\u001b[32m~/miniforge3/envs/datascience/lib/python3.13/site-packages/polars/dataframe/frame.py:1395\u001b[39m, in \u001b[36mDataFrame.__getitem__\u001b[39m\u001b[34m(self, key)\u001b[39m\n\u001b[32m   1258\u001b[39m \u001b[38;5;28;01mdef\u001b[39;00m\u001b[38;5;250m \u001b[39m\u001b[34m__getitem__\u001b[39m(\n\u001b[32m   1259\u001b[39m     \u001b[38;5;28mself\u001b[39m,\n\u001b[32m   1260\u001b[39m     key: (\n\u001b[32m   (...)\u001b[39m\u001b[32m   1269\u001b[39m     ),\n\u001b[32m   1270\u001b[39m ) -> DataFrame | Series | Any:\n\u001b[32m   1271\u001b[39m \u001b[38;5;250m    \u001b[39m\u001b[33;03m\"\"\"\u001b[39;00m\n\u001b[32m   1272\u001b[39m \u001b[33;03m    Get part of the DataFrame as a new DataFrame, Series, or scalar.\u001b[39;00m\n\u001b[32m   1273\u001b[39m \n\u001b[32m   (...)\u001b[39m\u001b[32m   1393\u001b[39m \u001b[33;03m    └─────┴─────┴─────┘\u001b[39;00m\n\u001b[32m   1394\u001b[39m \u001b[33;03m    \"\"\"\u001b[39;00m\n\u001b[32m-> \u001b[39m\u001b[32m1395\u001b[39m     \u001b[38;5;28;01mreturn\u001b[39;00m \u001b[43mget_df_item_by_key\u001b[49m\u001b[43m(\u001b[49m\u001b[38;5;28;43mself\u001b[39;49m\u001b[43m,\u001b[49m\u001b[43m \u001b[49m\u001b[43mkey\u001b[49m\u001b[43m)\u001b[49m\n",
      "\u001b[36mFile \u001b[39m\u001b[32m~/miniforge3/envs/datascience/lib/python3.13/site-packages/polars/_utils/getitem.py:169\u001b[39m, in \u001b[36mget_df_item_by_key\u001b[39m\u001b[34m(df, key)\u001b[39m\n\u001b[32m    167\u001b[39m     \u001b[38;5;28;01mreturn\u001b[39;00m _select_rows(df, key)  \u001b[38;5;66;03m# type: ignore[arg-type]\u001b[39;00m\n\u001b[32m    168\u001b[39m \u001b[38;5;28;01mexcept\u001b[39;00m \u001b[38;5;167;01mTypeError\u001b[39;00m:\n\u001b[32m--> \u001b[39m\u001b[32m169\u001b[39m     \u001b[38;5;28;01mreturn\u001b[39;00m \u001b[43m_select_columns\u001b[49m\u001b[43m(\u001b[49m\u001b[43mdf\u001b[49m\u001b[43m,\u001b[49m\u001b[43m \u001b[49m\u001b[43mkey\u001b[49m\u001b[43m)\u001b[49m\n",
      "\u001b[36mFile \u001b[39m\u001b[32m~/miniforge3/envs/datascience/lib/python3.13/site-packages/polars/_utils/getitem.py:260\u001b[39m, in \u001b[36m_select_columns\u001b[39m\u001b[34m(df, key)\u001b[39m\n\u001b[32m    255\u001b[39m         \u001b[38;5;28;01mraise\u001b[39;00m \u001b[38;5;167;01mTypeError\u001b[39;00m(msg)\n\u001b[32m    257\u001b[39m msg = (\n\u001b[32m    258\u001b[39m     \u001b[33mf\u001b[39m\u001b[33m\"\u001b[39m\u001b[33mcannot select columns using key of type \u001b[39m\u001b[38;5;132;01m{\u001b[39;00mqualified_type_name(key)\u001b[38;5;132;01m!r}\u001b[39;00m\u001b[33m: \u001b[39m\u001b[38;5;132;01m{\u001b[39;00mkey\u001b[38;5;132;01m!r}\u001b[39;00m\u001b[33m\"\u001b[39m\n\u001b[32m    259\u001b[39m )\n\u001b[32m--> \u001b[39m\u001b[32m260\u001b[39m \u001b[38;5;28;01mraise\u001b[39;00m \u001b[38;5;167;01mTypeError\u001b[39;00m(msg)\n",
      "\u001b[31mTypeError\u001b[39m: cannot select columns using key of type 'Expr': <Expr ['[(col(\"Population\")) > (dyn in…'] at 0x706C9B088C50>"
     ]
    }
   ],
   "source": [
    "df[pl.col(\"Population\") > 350]"
   ]
  },
  {
   "cell_type": "code",
   "execution_count": null,
   "id": "6e891b7a-b766-4d31-9b4c-d07640c3dc1d",
   "metadata": {},
   "outputs": [],
   "source": []
  },
  {
   "cell_type": "code",
   "execution_count": null,
   "id": "bacb75ca-7411-4e94-bc96-e42a9c46d9e9",
   "metadata": {},
   "outputs": [],
   "source": []
  },
  {
   "cell_type": "markdown",
   "id": "f60b28e5-b4b5-4300-b88a-4f063695635f",
   "metadata": {},
   "source": [
    "\n",
    "- https://docs.pola.rs/api/python/stable/reference/dataframe/api/polars.DataFrame.__getitem__.html#polars.DataFrame.__getitem__\n",
    "- https://docs.pola.rs/user-guide/migration/pandas/#selecting-data\n",
    "- https://typethepipe.com/vizs-and-tips/python-polars-selectors-select-multiple-columns/"
   ]
  },
  {
   "cell_type": "code",
   "execution_count": null,
   "id": "5f4d91bd-4ef4-4c53-8d5a-a0c9f83471c9",
   "metadata": {},
   "outputs": [],
   "source": []
  }
 ],
 "metadata": {
  "kernelspec": {
   "display_name": "datascience",
   "language": "python",
   "name": "python3"
  },
  "language_info": {
   "codemirror_mode": {
    "name": "ipython",
    "version": 3
   },
   "file_extension": ".py",
   "mimetype": "text/x-python",
   "name": "python",
   "nbconvert_exporter": "python",
   "pygments_lexer": "ipython3",
   "version": "3.13.3"
  }
 },
 "nbformat": 4,
 "nbformat_minor": 5
}
