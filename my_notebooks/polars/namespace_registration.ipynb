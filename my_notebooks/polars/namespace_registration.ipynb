{
 "cells": [
  {
   "cell_type": "markdown",
   "id": "13a9912c-d3cd-4f50-a3c2-02921b904e7a",
   "metadata": {},
   "source": [
    "# Namespace registration"
   ]
  },
  {
   "cell_type": "code",
   "execution_count": null,
   "id": "c67c640e-d0d9-40ba-9f62-fb513f2fbf4b",
   "metadata": {},
   "outputs": [],
   "source": [
    "import random\n",
    "\n",
    "import numpy as np\n",
    "import pandas as pd\n",
    "import polars as pl"
   ]
  },
  {
   "cell_type": "markdown",
   "id": "eb63f28a-66d4-463e-baf6-53010f309a52",
   "metadata": {},
   "source": [
    "## Polars"
   ]
  },
  {
   "cell_type": "code",
   "execution_count": null,
   "id": "ab583f3d-9be9-4428-b1de-7db740ca3bb5",
   "metadata": {},
   "outputs": [],
   "source": [
    "@pl.api.register_dataframe_namespace(\"bro\")\n",
    "class CustomDataFrameNamespace:\n",
    "    def __init__(self, df: pl.DataFrame):\n",
    "        self._df = df\n",
    "    \n",
    "    def sample(self, n: int, seed: int = None) -> pl.DataFrame:\n",
    "        \"\"\"\n",
    "        Sample n consecutive rows from the DataFrame.\n",
    "        \n",
    "        Parameters:\n",
    "        -----------\n",
    "        n : int\n",
    "            Number of consecutive rows to sample\n",
    "        seed : int, optional\n",
    "            Random seed for reproducibility\n",
    "            \n",
    "        Returns:\n",
    "        --------\n",
    "        pl.DataFrame\n",
    "            DataFrame containing n consecutive rows\n",
    "        \"\"\"\n",
    "        if n <= 0:\n",
    "            raise ValueError(\"n must be positive\")\n",
    "        \n",
    "        df_len = self._df.height\n",
    "        if n > df_len:\n",
    "            raise ValueError(f\"n ({n}) cannot be larger than DataFrame height ({df_len})\")\n",
    "        \n",
    "        # Set random seed if provided\n",
    "        if seed is not None:\n",
    "            random.seed(seed)\n",
    "        \n",
    "        # Calculate the maximum starting index\n",
    "        max_start_idx = df_len - n\n",
    "        \n",
    "        # Randomly choose starting index\n",
    "        start_idx = random.randint(0, max_start_idx)\n",
    "        \n",
    "        # Return consecutive rows using slice\n",
    "        return self._df.slice(start_idx, n)"
   ]
  },
  {
   "cell_type": "code",
   "execution_count": null,
   "id": "364f7585-6223-46cf-a171-07a339d744dd",
   "metadata": {},
   "outputs": [],
   "source": [
    "# Approach 2: Using LazyFrame namespace\n",
    "@pl.api.register_lazyframe_namespace(\"custom\")\n",
    "class CustomLazyFrameNamespace:\n",
    "    def __init__(self, lf: pl.LazyFrame):\n",
    "        self._lf = lf\n",
    "    \n",
    "    def sample_consecutive(self, n: int, seed: int = None) -> pl.LazyFrame:\n",
    "        \"\"\"Sample n consecutive rows from the LazyFrame.\"\"\"\n",
    "        if n <= 0:\n",
    "            raise ValueError(\"n must be positive\")\n",
    "        \n",
    "        if seed is not None:\n",
    "            random.seed(seed)\n",
    "        \n",
    "        # For LazyFrame, we need to collect first to get the length\n",
    "        # In practice, you might want to handle this differently\n",
    "        df_len = self._lf.collect().height\n",
    "        \n",
    "        if n > df_len:\n",
    "            raise ValueError(f\"n ({n}) cannot be larger than DataFrame height ({df_len})\")\n",
    "        \n",
    "        max_start_idx = df_len - n\n",
    "        start_idx = random.randint(0, max_start_idx)\n",
    "        \n",
    "        return self._lf.slice(start_idx, n)"
   ]
  },
  {
   "cell_type": "code",
   "execution_count": null,
   "id": "65e3fd9c-e26c-4b91-9255-90c66de5ae23",
   "metadata": {},
   "outputs": [],
   "source": [
    "@pl.api.register_series_namespace(\"math\")\n",
    "class MathShortcuts:\n",
    "    def __init__(self, s: pl.Series) -> None:\n",
    "        self._s = s\n",
    "\n",
    "    def square(self) -> pl.Series:\n",
    "        return self._s * self._s\n",
    "\n",
    "    def cube(self) -> pl.Series:\n",
    "        return self._s * self._s * self._s"
   ]
  },
  {
   "cell_type": "markdown",
   "id": "a446d900-b04b-4af2-a6ea-2160c72fb96a",
   "metadata": {},
   "source": [
    "## Pandas"
   ]
  },
  {
   "cell_type": "code",
   "execution_count": null,
   "id": "c5015a06-6b81-44e2-80f6-d2a2183e14f5",
   "metadata": {},
   "outputs": [],
   "source": [
    "@pd.api.extensions.register_dataframe_accessor(\"bro\")\n",
    "class CustomAccessor:\n",
    "    def __init__(self, pandas_obj):\n",
    "        self._obj = pandas_obj\n",
    "    \n",
    "    def sample_consecutive(self, n, random_state=None):\n",
    "        \"\"\"\n",
    "        Sample n consecutive rows from the DataFrame.\n",
    "        \n",
    "        Parameters:\n",
    "        -----------\n",
    "        n : int\n",
    "            Number of consecutive rows to sample\n",
    "        random_state : int, optional\n",
    "            Random seed for reproducibility\n",
    "            \n",
    "        Returns:\n",
    "        --------\n",
    "        pandas.DataFrame\n",
    "            DataFrame containing n consecutive rows\n",
    "        \"\"\"\n",
    "        if n <= 0:\n",
    "            raise ValueError(\"n must be positive\")\n",
    "        \n",
    "        if n > len(self._obj):\n",
    "            raise ValueError(f\"n ({n}) cannot be larger than DataFrame length ({len(self._obj)})\")\n",
    "        \n",
    "        # Set random seed if provided\n",
    "        if random_state is not None:\n",
    "            np.random.seed(random_state)\n",
    "        \n",
    "        # Calculate the maximum starting index\n",
    "        max_start_idx = len(self._obj) - n\n",
    "        \n",
    "        # Randomly choose starting index\n",
    "        start_idx = np.random.randint(0, max_start_idx + 1)\n",
    "        \n",
    "        # Return consecutive rows\n",
    "        return self._obj.iloc[start_idx:start_idx + n]\n",
    "\n",
    "# Example usage\n",
    "if __name__ == \"__main__\":\n",
    "    # Create a sample DataFrame\n",
    "    df = pd.DataFrame({\n",
    "        'A': range(1, 21),\n",
    "        'B': [f'item_{i}' for i in range(1, 21)],\n",
    "        'C': np.random.randn(20)\n",
    "    })\n",
    "    \n",
    "    print(\"Original DataFrame:\")\n",
    "    print(df)\n",
    "    print(\"\\n\" + \"=\"*50 + \"\\n\")\n",
    "    \n",
    "    # Sample 5 consecutive rows\n",
    "    consecutive_sample = df.custom.sample_consecutive(5, random_state=42)\n",
    "    print(\"Sample of 5 consecutive rows:\")\n",
    "    print(consecutive_sample)\n",
    "    print(\"\\n\" + \"=\"*30 + \"\\n\")\n",
    "    \n",
    "    # Sample 3 consecutive rows with different random state\n",
    "    another_sample = df.custom.sample_consecutive(3, random_state=123)\n",
    "    print(\"Another sample of 3 consecutive rows:\")\n",
    "    print(another_sample)"
   ]
  },
  {
   "cell_type": "code",
   "execution_count": null,
   "id": "db4c630e-e67e-406f-81e5-2701276a6149",
   "metadata": {},
   "outputs": [],
   "source": []
  },
  {
   "cell_type": "code",
   "execution_count": null,
   "id": "c6743256-e7e1-4f34-9d1d-b43621b05b00",
   "metadata": {},
   "outputs": [],
   "source": []
  },
  {
   "cell_type": "code",
   "execution_count": null,
   "id": "4f1d6c97-66f9-431d-8310-5d6161fabab6",
   "metadata": {},
   "outputs": [],
   "source": []
  },
  {
   "cell_type": "code",
   "execution_count": null,
   "id": "722369f1-fe7b-4f10-b054-b1f5e9125782",
   "metadata": {},
   "outputs": [],
   "source": []
  },
  {
   "cell_type": "markdown",
   "id": "a3510baf-aa71-4858-8115-92ae8c070ab5",
   "metadata": {},
   "source": [
    "## Example pick_random"
   ]
  },
  {
   "cell_type": "code",
   "execution_count": null,
   "id": "f7f8198b-7e8f-4088-85ce-e653f0672157",
   "metadata": {},
   "outputs": [],
   "source": [
    "import pandas as pd\n",
    "\n",
    "\n",
    "def pick_random(df: pd.DataFrame, column: str = \"VERTRAG_ID\", obs_id=None):\n",
    "    \"\"\"\n",
    "    Wählt aus einem Dataframe einen zufälligen Wert aus der Spalte 'column' und zeigt alle Einträge des Dataframes, die diesen Eintrag haben.\n",
    "    Beispiel: Wählt zufällig VERTRAG_ID 123456 und zeigt dann alle Einträge mit dieser VERTRAG_ID.\n",
    "    Wird obs_id vorgeben, dann kann auch gezielt ein ID Wert vorgegeben werden.\n",
    "\n",
    "    :param df: Input-Dataframe\n",
    "    :param column: Spalte, anhand derer Observationen gewählt werden\n",
    "    :param obs_id: ID für eine bestimmte Observation (z.B. bestimmen Vertrag oder Debitor)\n",
    "\n",
    "    \"\"\"\n",
    "\n",
    "    if obs_id is None:\n",
    "        obs = df[column].sample(1).iloc[0]\n",
    "    else:\n",
    "        obs = obs_id\n",
    "    samp = df[df[column] == obs]\n",
    "    return samp\n"
   ]
  },
  {
   "cell_type": "code",
   "execution_count": null,
   "id": "87c70764-91cf-4c20-a316-91c6584327a4",
   "metadata": {},
   "outputs": [],
   "source": []
  },
  {
   "cell_type": "code",
   "execution_count": null,
   "id": "a0514ecb-a44a-4b5b-a618-69153ad9157a",
   "metadata": {},
   "outputs": [],
   "source": []
  },
  {
   "cell_type": "markdown",
   "id": "c2986c67-2bf3-404c-a49d-f0a9810a6b24",
   "metadata": {},
   "source": [
    "## Method chaining with custom methods"
   ]
  },
  {
   "cell_type": "code",
   "execution_count": null,
   "id": "9a2269c8-f230-40ce-9bb7-c036697c9d77",
   "metadata": {},
   "outputs": [],
   "source": []
  },
  {
   "cell_type": "code",
   "execution_count": null,
   "id": "057f3b2f-f6d3-424e-b78d-b60203170f31",
   "metadata": {},
   "outputs": [],
   "source": []
  },
  {
   "cell_type": "code",
   "execution_count": null,
   "id": "5159e552-7d14-4987-802d-754b76364e48",
   "metadata": {},
   "outputs": [],
   "source": []
  },
  {
   "cell_type": "markdown",
   "id": "e0a9ee5c-32a0-437b-9a34-c6eb8a36bfae",
   "metadata": {},
   "source": [
    "## Monkey patching"
   ]
  },
  {
   "cell_type": "code",
   "execution_count": null,
   "id": "33bdc2f5-8d40-4ee8-a224-6ede53e7ef70",
   "metadata": {},
   "outputs": [],
   "source": [
    "def monkey_print(self):\n",
    "    print(\"Adding method using monkey patching.\")"
   ]
  },
  {
   "cell_type": "code",
   "execution_count": null,
   "id": "7d78b066-73c1-4ce4-8248-26b0d1468cf6",
   "metadata": {},
   "outputs": [],
   "source": [
    "pl.DataFrame.monkey_print = monkey_print"
   ]
  },
  {
   "cell_type": "code",
   "execution_count": null,
   "id": "fb72a7c2-7f94-4c4a-b1a8-0e2e95897591",
   "metadata": {},
   "outputs": [],
   "source": [
    "df_mig_extrakt.monkey_print()"
   ]
  },
  {
   "cell_type": "code",
   "execution_count": null,
   "id": "b9150700-a9f9-4c6b-a48f-7794035586a9",
   "metadata": {},
   "outputs": [],
   "source": []
  },
  {
   "cell_type": "code",
   "execution_count": null,
   "id": "ad5b2925-51b2-4614-90f5-f21285a98d5c",
   "metadata": {},
   "outputs": [],
   "source": []
  }
 ],
 "metadata": {
  "kernelspec": {
   "display_name": "Python 3.11",
   "language": "python",
   "name": "python3.11"
  },
  "language_info": {
   "codemirror_mode": {
    "name": "ipython",
    "version": 3
   },
   "file_extension": ".py",
   "mimetype": "text/x-python",
   "name": "python",
   "nbconvert_exporter": "python",
   "pygments_lexer": "ipython3",
   "version": "3.11.7"
  }
 },
 "nbformat": 4,
 "nbformat_minor": 5
}
