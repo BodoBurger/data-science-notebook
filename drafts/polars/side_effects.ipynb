{
 "cells": [
  {
   "cell_type": "markdown",
   "id": "548d198a",
   "metadata": {},
   "source": [
    "# Side effects polars dataframe"
   ]
  },
  {
   "cell_type": "markdown",
   "id": "52ececf2-3a9b-4783-960d-7333a88fe01b",
   "metadata": {},
   "source": [
    "Passing polars dataframe to functions\n",
    "\n",
    "What happens to the original dataframe?"
   ]
  },
  {
   "cell_type": "code",
   "execution_count": null,
   "id": "7dc45eee-741b-4de5-8d93-5dd049558cf8",
   "metadata": {},
   "outputs": [],
   "source": []
  }
 ],
 "metadata": {
  "kernelspec": {
   "display_name": "Python 3.11",
   "language": "python",
   "name": "python3.11"
  },
  "language_info": {
   "codemirror_mode": {
    "name": "ipython",
    "version": 3
   },
   "file_extension": ".py",
   "mimetype": "text/x-python",
   "name": "python",
   "nbconvert_exporter": "python",
   "pygments_lexer": "ipython3",
   "version": "3.11.7"
  }
 },
 "nbformat": 4,
 "nbformat_minor": 5
}
